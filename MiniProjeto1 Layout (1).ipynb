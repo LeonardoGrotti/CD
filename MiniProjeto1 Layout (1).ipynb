{
 "cells": [
  {
   "cell_type": "markdown",
   "metadata": {},
   "source": [
    "___\n",
    "# MINIPROJETO 1"
   ]
  },
  {
   "cell_type": "markdown",
   "metadata": {},
   "source": [
    "## <font color='red'>Leonadro Grotti</font>\n",
    "___"
   ]
  },
  {
   "cell_type": "markdown",
   "metadata": {},
   "source": [
    "## <font color='blue'>Nivel de fertilidade adolescentes (número de nascimentos por 1000 mulhere com idade de 15 a 19 anos)</font>"
   ]
  },
  {
   "cell_type": "markdown",
   "metadata": {},
   "source": [
    "___\n",
    "### Itens 1 a 3 - Resolução:"
   ]
  },
  {
   "cell_type": "code",
   "execution_count": 30,
   "metadata": {
    "collapsed": false
   },
   "outputs": [
    {
     "name": "stdout",
     "output_type": "stream",
     "text": [
      "Esperamos trabalhar no diretório\n",
      "C:\\Users\\Asus Pro\\Downloads\n"
     ]
    }
   ],
   "source": [
    "%matplotlib inline\n",
    "import pandas as pd\n",
    "import matplotlib.pyplot as plt\n",
    "import numpy as np\n",
    "import os\n",
    "from scipy import stats\n",
    "\n",
    "print('Esperamos trabalhar no diretório')\n",
    "print(os.getcwd())"
   ]
  },
  {
   "cell_type": "code",
   "execution_count": 38,
   "metadata": {
    "collapsed": false
   },
   "outputs": [
    {
     "data": {
      "text/html": [
       "<div>\n",
       "<table border=\"1\" class=\"dataframe\">\n",
       "  <thead>\n",
       "    <tr style=\"text-align: right;\">\n",
       "      <th></th>\n",
       "      <th>Country Name</th>\n",
       "      <th>Country Code</th>\n",
       "      <th>Indicator Name</th>\n",
       "      <th>Indicator Code</th>\n",
       "      <th>1960</th>\n",
       "      <th>1961</th>\n",
       "      <th>1962</th>\n",
       "      <th>1963</th>\n",
       "      <th>1964</th>\n",
       "      <th>1965</th>\n",
       "      <th>...</th>\n",
       "      <th>2006</th>\n",
       "      <th>2007</th>\n",
       "      <th>2008</th>\n",
       "      <th>2009</th>\n",
       "      <th>2010</th>\n",
       "      <th>2011</th>\n",
       "      <th>2012</th>\n",
       "      <th>2013</th>\n",
       "      <th>Ano2014</th>\n",
       "      <th>2015</th>\n",
       "    </tr>\n",
       "  </thead>\n",
       "  <tbody>\n",
       "    <tr>\n",
       "      <th>0</th>\n",
       "      <td>Aruba</td>\n",
       "      <td>ABW</td>\n",
       "      <td>Adolescent fertility rate (births per 1,000 wo...</td>\n",
       "      <td>SP.ADO.TFRT</td>\n",
       "      <td>106.2062</td>\n",
       "      <td>102.8116</td>\n",
       "      <td>99.417</td>\n",
       "      <td>94.4542</td>\n",
       "      <td>89.4914</td>\n",
       "      <td>84.5286</td>\n",
       "      <td>...</td>\n",
       "      <td>34.9382</td>\n",
       "      <td>33.393</td>\n",
       "      <td>32.0268</td>\n",
       "      <td>30.6606</td>\n",
       "      <td>29.2944</td>\n",
       "      <td>27.9282</td>\n",
       "      <td>26.562</td>\n",
       "      <td>24.8420</td>\n",
       "      <td>23.1220</td>\n",
       "      <td>NaN</td>\n",
       "    </tr>\n",
       "    <tr>\n",
       "      <th>1</th>\n",
       "      <td>Andorra</td>\n",
       "      <td>AND</td>\n",
       "      <td>Adolescent fertility rate (births per 1,000 wo...</td>\n",
       "      <td>SP.ADO.TFRT</td>\n",
       "      <td>NaN</td>\n",
       "      <td>NaN</td>\n",
       "      <td>NaN</td>\n",
       "      <td>NaN</td>\n",
       "      <td>NaN</td>\n",
       "      <td>NaN</td>\n",
       "      <td>...</td>\n",
       "      <td>NaN</td>\n",
       "      <td>NaN</td>\n",
       "      <td>NaN</td>\n",
       "      <td>NaN</td>\n",
       "      <td>NaN</td>\n",
       "      <td>NaN</td>\n",
       "      <td>NaN</td>\n",
       "      <td>NaN</td>\n",
       "      <td>NaN</td>\n",
       "      <td>NaN</td>\n",
       "    </tr>\n",
       "    <tr>\n",
       "      <th>2</th>\n",
       "      <td>Afghanistan</td>\n",
       "      <td>AFG</td>\n",
       "      <td>Adolescent fertility rate (births per 1,000 wo...</td>\n",
       "      <td>SP.ADO.TFRT</td>\n",
       "      <td>145.3210</td>\n",
       "      <td>145.3210</td>\n",
       "      <td>145.321</td>\n",
       "      <td>145.3210</td>\n",
       "      <td>145.3210</td>\n",
       "      <td>145.3210</td>\n",
       "      <td>...</td>\n",
       "      <td>123.1616</td>\n",
       "      <td>117.390</td>\n",
       "      <td>111.4708</td>\n",
       "      <td>105.5516</td>\n",
       "      <td>99.6324</td>\n",
       "      <td>93.7132</td>\n",
       "      <td>87.794</td>\n",
       "      <td>82.2638</td>\n",
       "      <td>76.7336</td>\n",
       "      <td>NaN</td>\n",
       "    </tr>\n",
       "    <tr>\n",
       "      <th>3</th>\n",
       "      <td>Angola</td>\n",
       "      <td>AGO</td>\n",
       "      <td>Adolescent fertility rate (births per 1,000 wo...</td>\n",
       "      <td>SP.ADO.TFRT</td>\n",
       "      <td>234.6840</td>\n",
       "      <td>235.0020</td>\n",
       "      <td>235.320</td>\n",
       "      <td>235.3200</td>\n",
       "      <td>235.3200</td>\n",
       "      <td>235.3200</td>\n",
       "      <td>...</td>\n",
       "      <td>191.9584</td>\n",
       "      <td>188.404</td>\n",
       "      <td>185.9120</td>\n",
       "      <td>183.4200</td>\n",
       "      <td>180.9280</td>\n",
       "      <td>178.4360</td>\n",
       "      <td>175.944</td>\n",
       "      <td>171.2734</td>\n",
       "      <td>166.6028</td>\n",
       "      <td>NaN</td>\n",
       "    </tr>\n",
       "    <tr>\n",
       "      <th>4</th>\n",
       "      <td>Albania</td>\n",
       "      <td>ALB</td>\n",
       "      <td>Adolescent fertility rate (births per 1,000 wo...</td>\n",
       "      <td>SP.ADO.TFRT</td>\n",
       "      <td>54.4408</td>\n",
       "      <td>56.1654</td>\n",
       "      <td>57.890</td>\n",
       "      <td>55.3680</td>\n",
       "      <td>52.8460</td>\n",
       "      <td>50.3240</td>\n",
       "      <td>...</td>\n",
       "      <td>18.7270</td>\n",
       "      <td>18.600</td>\n",
       "      <td>19.0396</td>\n",
       "      <td>19.4792</td>\n",
       "      <td>19.9188</td>\n",
       "      <td>20.3584</td>\n",
       "      <td>20.798</td>\n",
       "      <td>21.1438</td>\n",
       "      <td>21.4896</td>\n",
       "      <td>NaN</td>\n",
       "    </tr>\n",
       "  </tbody>\n",
       "</table>\n",
       "<p>5 rows × 60 columns</p>\n",
       "</div>"
      ],
      "text/plain": [
       "  Country Name Country Code  \\\n",
       "0        Aruba          ABW   \n",
       "1      Andorra          AND   \n",
       "2  Afghanistan          AFG   \n",
       "3       Angola          AGO   \n",
       "4      Albania          ALB   \n",
       "\n",
       "                                      Indicator Name Indicator Code      1960  \\\n",
       "0  Adolescent fertility rate (births per 1,000 wo...    SP.ADO.TFRT  106.2062   \n",
       "1  Adolescent fertility rate (births per 1,000 wo...    SP.ADO.TFRT       NaN   \n",
       "2  Adolescent fertility rate (births per 1,000 wo...    SP.ADO.TFRT  145.3210   \n",
       "3  Adolescent fertility rate (births per 1,000 wo...    SP.ADO.TFRT  234.6840   \n",
       "4  Adolescent fertility rate (births per 1,000 wo...    SP.ADO.TFRT   54.4408   \n",
       "\n",
       "       1961     1962      1963      1964      1965  ...       2006     2007  \\\n",
       "0  102.8116   99.417   94.4542   89.4914   84.5286  ...    34.9382   33.393   \n",
       "1       NaN      NaN       NaN       NaN       NaN  ...        NaN      NaN   \n",
       "2  145.3210  145.321  145.3210  145.3210  145.3210  ...   123.1616  117.390   \n",
       "3  235.0020  235.320  235.3200  235.3200  235.3200  ...   191.9584  188.404   \n",
       "4   56.1654   57.890   55.3680   52.8460   50.3240  ...    18.7270   18.600   \n",
       "\n",
       "       2008      2009      2010      2011     2012      2013   Ano2014  2015  \n",
       "0   32.0268   30.6606   29.2944   27.9282   26.562   24.8420   23.1220   NaN  \n",
       "1       NaN       NaN       NaN       NaN      NaN       NaN       NaN   NaN  \n",
       "2  111.4708  105.5516   99.6324   93.7132   87.794   82.2638   76.7336   NaN  \n",
       "3  185.9120  183.4200  180.9280  178.4360  175.944  171.2734  166.6028   NaN  \n",
       "4   19.0396   19.4792   19.9188   20.3584   20.798   21.1438   21.4896   NaN  \n",
       "\n",
       "[5 rows x 60 columns]"
      ]
     },
     "execution_count": 38,
     "metadata": {},
     "output_type": "execute_result"
    }
   ],
   "source": [
    "dados = pd.read_excel('database1.xlsx', sep=',')\n",
    "dados.head()"
   ]
  },
  {
   "cell_type": "code",
   "execution_count": 32,
   "metadata": {
    "collapsed": false
   },
   "outputs": [
    {
     "data": {
      "text/plain": [
       "(264, 60)"
      ]
     },
     "execution_count": 32,
     "metadata": {},
     "output_type": "execute_result"
    }
   ],
   "source": [
    "dados.shape"
   ]
  },
  {
   "cell_type": "code",
   "execution_count": 53,
   "metadata": {
    "collapsed": false
   },
   "outputs": [],
   "source": [
    "d=pd.DataFrame()\n",
    "d['Ano_2014']=dados[~dados.Ano2014.isnull()].Ano2014"
   ]
  },
  {
   "cell_type": "code",
   "execution_count": 54,
   "metadata": {
    "collapsed": false
   },
   "outputs": [
    {
     "data": {
      "text/plain": [
       "count    240.000000\n",
       "mean      48.097278\n",
       "std       37.975924\n",
       "min        0.560800\n",
       "25%       16.809850\n",
       "50%       40.008900\n",
       "75%       68.621000\n",
       "max      203.604000\n",
       "Name: Ano_2014, dtype: float64"
      ]
     },
     "execution_count": 54,
     "metadata": {},
     "output_type": "execute_result"
    }
   ],
   "source": [
    "d['Ano_2014'].describe()"
   ]
  },
  {
   "cell_type": "code",
   "execution_count": 55,
   "metadata": {
    "collapsed": true
   },
   "outputs": [],
   "source": [
    "faixa = np.arange (0,203,3)"
   ]
  },
  {
   "cell_type": "code",
   "execution_count": 56,
   "metadata": {
    "collapsed": false
   },
   "outputs": [
    {
     "data": {
      "image/png": "[encoded data removed]",
      "text/plain": [
       "<matplotlib.figure.Figure at 0x2b1859ae10>"
      ]
     },
     "metadata": {},
     "output_type": "display_data"
    }
   ],
   "source": [
    "plot = d.Ano_2014.plot.hist(bins=faixa)"
   ]
  },
  {
   "cell_type": "markdown",
   "metadata": {
    "collapsed": true
   },
   "source": [
    "___\n",
    "### Itens 4 a 6 - Resolução:"
   ]
  },
  {
   "cell_type": "markdown",
   "metadata": {},
   "source": [
    "### Dado que neste histograma sua média é maior que sua mediana, e essa, maior que sua moda, ele é assimétrico à direita ou positivo."
   ]
  },
  {
   "cell_type": "markdown",
   "metadata": {},
   "source": [
    "## Distribuições Teóricas de Probabilidades de Variáveis Aleatórias Discretas\n",
    "Ela é discreta pois nem para todos os valores em X a um valor associado em y."
   ]
  },
  {
   "cell_type": "markdown",
   "metadata": {},
   "source": [
    "### Distribuição de Poisson: A distribuição  de  Poisson  é  empregada  em  experimentos,  nos  quais  não  se  está interessado  no  número  de  sucessos obtidos  em  n tentativas,  mas  sim  no  número  de  sucessos  ocorridos durante um intervalo contínuo, que pode ser um intervalo de tempo, espaço, etc. \n",
    "Ou seja a distribuição de Poisson é usada para encontrar a probabilidade de um número designado de sucessos por unidade de\n",
    "intervalo por exemplo o número de nascimentos por 1000 mulheres (para meninas de 15 anos a 18 anos) em um determinado período de tempo ou o número de nascimentos por 1000 mulheres (para meninas de 15 anos a 18 anos) em determinados países como é o caso estudado acima, o único defeito desse modelo é que quando pegamos os países como intervalo de espaço, o mesmo passa a não ser contínuo."
   ]
  },
  {
   "cell_type": "markdown",
   "metadata": {
    "collapsed": true
   },
   "source": [
    "### Distribuição Binomial negativa: A distribuição Binomial negativa estuda a probabilidade de se obter um número certo de sucesso em k tentativas.\n"
   ]
  },
  {
   "cell_type": "markdown",
   "metadata": {
    "collapsed": true
   },
   "source": [
    "Ou seja caso tivessemos como objetivo aumentar a quantidade de filhos por 1000 mulheres e considerassemos como sucesso ter mais que 70 filhos poderiamos calcular a probabilidade de ter pelo menos tres paises entre cada dez escolhidos com essa taxa mínima de filhos."
   ]
  },
  {
   "cell_type": "markdown",
   "metadata": {
    "collapsed": true
   },
   "source": [
    "___\n",
    "### Itens 7 a 9 - Resolução:"
   ]
  },
  {
   "cell_type": "code",
   "execution_count": null,
   "metadata": {
    "collapsed": true
   },
   "outputs": [],
   "source": []
  },
  {
   "cell_type": "code",
   "execution_count": null,
   "metadata": {
    "collapsed": true
   },
   "outputs": [],
   "source": []
  },
  {
   "cell_type": "markdown",
   "metadata": {},
   "source": [
    "___\n",
    "### Itens 10 e 11 - Resolução:"
   ]
  },
  {
   "cell_type": "code",
   "execution_count": null,
   "metadata": {
    "collapsed": true
   },
   "outputs": [],
   "source": []
  },
  {
   "cell_type": "code",
   "execution_count": null,
   "metadata": {
    "collapsed": true
   },
   "outputs": [],
   "source": []
  }
 ],
 "metadata": {
  "anaconda-cloud": {},
  "kernelspec": {
   "display_name": "Python 3",
   "language": "python",
   "name": "python3"
  },
  "language_info": {
   "codemirror_mode": {
    "name": "ipython",
    "version": 3
   },
   "file_extension": ".py",
   "mimetype": "text/x-python",
   "name": "python",
   "nbconvert_exporter": "python",
   "pygments_lexer": "ipython3",
   "version": "3.5.1"
  }
 },
 "nbformat": 4,
 "nbformat_minor": 0
}
