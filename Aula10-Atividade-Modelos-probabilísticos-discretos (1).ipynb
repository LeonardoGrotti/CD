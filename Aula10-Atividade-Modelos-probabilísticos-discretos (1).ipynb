{
 "cells": [
  {
   "cell_type": "markdown",
   "metadata": {},
   "source": [
    "___\n",
    "# Atividade: Modelos probabilísticos discretos e Dados\n",
    "___\n",
    "\n",
    "## Aula 10\n",
    "\n",
    "**Referência de Leitura:**\n",
    "1. Magalhães e Lima (7ª. Edição): Seções 3.2 e 3.3\n",
    "\n",
    "**Hoje:**\n",
    "1.\tDescrever modelos discretos quanto aos resultados teóricos.\n",
    "2.\tExplicar a utilização de modelos probabilísticos no contexto da literatura estatística.\n",
    "3.\tContrastar resultados teóricos e empíricos.\n",
    "4.\tFechamento do conteúdo.\n",
    "\n",
    "**Próxima aula:**\n",
    "1. Leitura prévia necessária: Magalhães e Lima (7ª. Edição): Seção 5.1 (pág. 137) e Seção 5.2 (pág. 146).\n",
    "___"
   ]
  },
  {
   "cell_type": "code",
   "execution_count": 42,
   "metadata": {
    "collapsed": true
   },
   "outputs": [],
   "source": [
    "%matplotlib inline\n",
    "import pandas as pd\n",
    "import matplotlib.pyplot as plt\n",
    "\n",
    "from scipy import stats #importa apenas as funções de estatísticas da biblioteca SciPy.\n",
    "import itertools #importante para gerar todos os resultados possíveis!!\n"
   ]
  },
  {
   "cell_type": "markdown",
   "metadata": {},
   "source": [
    "___\n",
    "## <font color='blue'>Exercício 1</font>\n",
    "\n",
    "Um resistor de 100K Ohms comprado na Santa Efigênia tem probabilidade de falha de 5%, segundo um fabricante ruim.\n",
    "\n",
    "Ainda, assuma os resistores falham de forma independente entre si.\n",
    "\n",
    "Um aluno de engenharia compra um pacote contendo $n$ resistores.\n",
    "\n",
    "1. Assuma $n=3$ e faça os itens a seguir.\n",
    "  1. Monte o espaço amostral que combine todos os resultados possíveis de Falha e não Falha desses $n$ resistores. Ainda, calcule a probabilidade de cada resultado do espaço amostral acontecer.\n",
    "  2. Se $Y$ representa o número de resistores que falham em um pacotinho com $n$ resistores, então construa a distribuição de probabilidades de $Y$.\n",
    "  3. Calcule a média e o desvio padrão de $Y$. Interprete os resultados.\n",
    "    \n",
    "2. Assuma $n=7$ e repita os itens A) a C) anteriores. No caso de $n=7$ ou maiores quantidades de resistores em um pacotinho, qual a viabilidade de construir a distribuição de probabilidades do número de resistores com defeitos quando $n$ não é pequeno?\n",
    "    \n",
    "3. Encontre a distribuição de probabilidades de cada possível valor de $Y$ utilizando a distribuição Binomial para $n=3$ e $n=7$. Calcule também $E(X)$ e $Var(X)$. Compare com as distribuições de probabilidades obtidas nos itens anteriores e discuta porque esses valores são iguais ou diferentes!\n",
    "    \n",
    "> **DISTRIBUIÇÃO BINOMIAL - TEORIA:**\n",
    "\n",
    "> É responsável por modelar uma variável $Y$ definida pelo Número de sucessos em $n$ tentativas, cuja probabilidade de sucesso é dada por $p$. Assim, dizemos que $Y$~$Bin(n,p)$ e lê-se: $Y$ segue uma distribuição binomial com $n$ tentativas e $p$ como probabilidade de sucesso. \n",
    "\n",
    "> A função de probabilidade nesse caso é dada por:\n",
    "$P(Y=y)=\\left(\n",
    "\\begin{array}{c}\n",
    "    n \\\\\n",
    "    y\n",
    "\\end{array}\\right) p^y (1-p)^{(n-y)}$\n",
    "\n",
    "> Para um experimento ter as probabilidade dos números de sucessos modeladas por uma distribuição Binomial, o mesmo precisa ter as seguintes propriedades:\n",
    "* é uma contagem de $n$ repetições (ou tentativas ou ensaios) idênticas;\n",
    "* cada repetição tem apenas 2 resultados possíveis: um é denominado sucesso e o outro, fracasso;\n",
    "* a probabilidade de sucesso para cada ensaio é denominada $p$ e será constante em cada repetição. Então, a probabilidade de fracasso $(1-p)$ também não varia de tentativa para tentativa;\n",
    "* As tentativas são independentes.\n",
    "\n",
    "\n",
    "> **DISTRIBUIÇÃO BINOMIAL - PYTHON:** <sup> [https://en.wikipedia.org/wiki/SciPy]\n",
    "\n",
    "> Algumas funções úteis para desenvolver seu código: <sup> [http://docs.scipy.org/doc/scipy-0.16.1/reference/generated/scipy.stats.binom.html]\n",
    "* $P(Y=y)$: `stats.binom.pmf(y, n, p)`\n",
    "* $P(Y\\leq y)$: `stats.binom.cdf(y, n, p)`\n",
    "* $E(X)$ e $Var(X)$: `stats.binom.stats(n, p, moments='mv')`\n"
   ]
  },
  {
   "cell_type": "code",
   "execution_count": 43,
   "metadata": {
    "collapsed": true
   },
   "outputs": [],
   "source": [
    "#item 1\n",
    "n=3\n",
    "#item 2\n",
    "n=7"
   ]
  },
  {
   "cell_type": "code",
   "execution_count": null,
   "metadata": {
    "collapsed": true
   },
   "outputs": [],
   "source": []
  },
  {
   "cell_type": "markdown",
   "metadata": {
    "collapsed": true
   },
   "source": [
    "___\n",
    "## <font color='blue'>Exercício 2</font>\n",
    "\n",
    "Uma fábrica produz determinado veículo. O gerente de vendas fechou um negócio que implica na produção de pelo menos 110 unidades nos próximos dois meses. Para isso, será construída uma nova linha de montagem com capacidade para produzir em média 50 veículos por mês (considere meses de 30 dias). A linha funcionará ininterruptamente. Além disso, apenas um veículo é produzido por vez. Considere que um modelo Poisson seja adequado para a quantidade de veículos produzidos.\n",
    "   1. Qual a probabilidade  da produção ser igual a 100 veículos nos próximos dois meses?\n",
    "   2. Qual a probabilidade  da produção ser de pelo menos 100 veículos nos próximos dois meses?\n",
    "   3. Qual a probabilidade da produção ser entre 100 e 110 veículos nos próximos dois meses?\n",
    "   4. Se forem produzidos de pelo menos 100 veículos no próximo mês, qual a probabilidade do gerente cumprir a meta negociada?\n",
    "   5. Caso o prazo seja cumprido, o lucro será da ordem de $250$ mil, caso não seja, o lucro cai para $200$ mil. Qual é o lucro esperado e seu desvio-padrão?\n",
    "\n",
    "**Observação:** Explore os comandos de `stats.poisson`. <sup>[http://docs.scipy.org/doc/scipy/reference/generated/scipy.stats.poisson.html]\n"
   ]
  },
  {
   "cell_type": "code",
   "execution_count": null,
   "metadata": {
    "collapsed": true
   },
   "outputs": [],
   "source": []
  },
  {
   "cell_type": "markdown",
   "metadata": {},
   "source": [
    "___\n",
    "## <font color='blue'>Exercício 3</font> \n",
    "### <font color='red'>**Check para dia 13/09 em DUPLA **</font>\n",
    "\n",
    "Esse exercício irá explorar uma modelagem de dados reais.\n",
    "\n",
    "> **Confira alguns itens obrigatórios verificados durante a vistoria do Detran**\n",
    "\n",
    "> *Todos os veículos, novos ou velhos, precisam passar por uma vistoria todos os anos. (...) O motorista precisa estar atento a alguns itens obrigatórios. Tudo deve funcionar perfeitamente, apresentar bom estado de conservação e estar dentro do prazo de validade.*\n",
    "\n",
    "> <sup>Fonte: http://extra.globo.com/noticias/brasil/transito-seguro/confira-alguns-itens-obrigatorios-verificados-durante-vistoria-do-detran-10190355.html</sup>\n",
    "\n",
    "Essa matéria lista 14 itens que são inspecionados pelo Detran, dentre os quais têm-se: extintor de incêndio deve estar dentro do prazo de validade; pneus devem estar em bom estado de conservação; buzina deve funcionar perfeitamente; e cintos de segurança para todos os ocupantes do carro. Se, no final das contas, todos os 14 itens estiverem funcionando perfeitamente, o motorista irá feliz para casa assegurado de que seu carro está sem problemas com a vistoria.\n",
    "\n",
    "1. A base de dados `Carros.txt` apresenta, para cada um dos três mil carros de passeio vistoriados, duas informações: tipo de carro (1: Popular e 2: Não Popular) e quantidade de itens vistoriados em não conformidade (que pode variar de 0 a 14). \n",
    "    1. Considerando todos os carros, analise a quantidade de itens vistoriados em não conformidade. Pela tabela de frequências relativas, calcule a média e variância dessa quantidade. Interprete-os.\n",
    "    2. Assuma que a variável *Quantidade de itens em não conformidade* possa ser ajustada pelo modelo Binomial com parâmetros $n=14$ e $p=0,10$. Interprete esses parâmetros para o problema em questão e, ainda, discuta se as propriedades da distribuição Binomial estão satisfeitas para o problema aqui me questão.\n",
    "    \n",
    "    **Independente da sua resposta anterior, considere que a distribuição binomial seja adequada para modelar a variável de interesse nos próximos itens!**\n",
    "    3. Utilizando o método `stats.binom.pmf`, obtenha a probabilidade de cada uma das quantidades de itens em não conformidade quando $n=14$ e $p=0,10$. Calcule o valor esperado e a variância da quantidade de itens em não conformidade utilizando o método `stats.binom.stats` e via resultado da Tabela 4.4 do Magalhães e Lima (pág. 125).\n",
    "    4. Compare as probabilidades teóricas com as frequências relativas observadas nos dados. Para isso, tem-se, por exemplo, as duas opções abaixo para comparar se os resultados empíricos se encaixam com o modelo teórico proposto. \n",
    "        - A primeira opção gráfica contrasta a frequência relativa e a probabilidade teórica para uma determinada quantidade de itens em não conformidade! Vide Figura 3.4 do livro Magalhães e Lima (pág. 87). Ou seja, essa opção contrasta a frequência relativa em um valor de $y$ e a probabilidade pontual $P(Y=y)$.\n",
    "        - A segunda contrasta a frequência relativa acumulada com a probabilidade acumulada até determinada quantidade de itens em não conformidade. Ou seja, compara a frequência relativa acumulada até $y$ com a probabilidade acumulada $P(Y\\leq y)$.\n",
    "    Construa os gráficos de acordo com as duas opções e refine sua conclusão quanto ao uso do modelo teórico para ajustar a variável em questão!\n",
    "    5. Na prática, qual a necessidade de um modelo probabilístico já que se têm os dados observados?\n",
    "    6. Considerando apenas os carros populares, o modelo Binomial com parâmetros $n=14$ e $p=0,10$ é adequado para ajustar a variável Quantidade de itens em não conformidade? Se sim, justifique; caso não, sugira novos valores para os parâmetros da distribuição ajuste aos dados."
   ]
  },
  {
   "cell_type": "code",
   "execution_count": 44,
   "metadata": {
    "collapsed": false
   },
   "outputs": [
    {
     "name": "stdout",
     "output_type": "stream",
     "text": [
      "Esperamos trabalhar no diretório\n",
      "C:\\Users\\digol\\Downloads\n"
     ]
    }
   ],
   "source": [
    "import os\n",
    "import numpy as np\n",
    "print('Esperamos trabalhar no diretório')\n",
    "print(os.getcwd())\n",
    "carros = pd.read_table('Carros.txt', sep=' ')"
   ]
  },
  {
   "cell_type": "code",
   "execution_count": 45,
   "metadata": {
    "collapsed": false
   },
   "outputs": [
    {
     "data": {
      "text/html": [
       "<div>\n",
       "<table border=\"1\" class=\"dataframe\">\n",
       "  <thead>\n",
       "    <tr style=\"text-align: right;\">\n",
       "      <th></th>\n",
       "      <th>Tipo</th>\n",
       "      <th>Quantidade</th>\n",
       "    </tr>\n",
       "  </thead>\n",
       "  <tbody>\n",
       "    <tr>\n",
       "      <th>1</th>\n",
       "      <td>1</td>\n",
       "      <td>0</td>\n",
       "    </tr>\n",
       "    <tr>\n",
       "      <th>2</th>\n",
       "      <td>1</td>\n",
       "      <td>2</td>\n",
       "    </tr>\n",
       "    <tr>\n",
       "      <th>3</th>\n",
       "      <td>1</td>\n",
       "      <td>2</td>\n",
       "    </tr>\n",
       "    <tr>\n",
       "      <th>4</th>\n",
       "      <td>1</td>\n",
       "      <td>3</td>\n",
       "    </tr>\n",
       "    <tr>\n",
       "      <th>5</th>\n",
       "      <td>1</td>\n",
       "      <td>1</td>\n",
       "    </tr>\n",
       "  </tbody>\n",
       "</table>\n",
       "</div>"
      ],
      "text/plain": [
       "   Tipo  Quantidade\n",
       "1     1           0\n",
       "2     1           2\n",
       "3     1           2\n",
       "4     1           3\n",
       "5     1           1"
      ]
     },
     "execution_count": 45,
     "metadata": {},
     "output_type": "execute_result"
    }
   ],
   "source": [
    "carros.head()"
   ]
  },
  {
   "cell_type": "code",
   "execution_count": 46,
   "metadata": {
    "collapsed": false
   },
   "outputs": [
    {
     "data": {
      "image/png": "[encoded data removed]",
      "text/plain": [
       "<matplotlib.figure.Figure at 0x1d4058cca90>"
      ]
     },
     "metadata": {},
     "output_type": "display_data"
    }
   ],
   "source": [
    "faixa=np.arange(0,15,1)\n",
    "\n",
    "plot=carros.Quantidade.plot.hist(bins=faixa)"
   ]
  },
  {
   "cell_type": "markdown",
   "metadata": {},
   "source": [
    "carros.Quantidade.value_counts()"
   ]
  },
  {
   "cell_type": "code",
   "execution_count": 54,
   "metadata": {
    "collapsed": false
   },
   "outputs": [
    {
     "name": "stdout",
     "output_type": "stream",
     "text": [
      "1    0.316667\n",
      "0    0.288000\n",
      "2    0.221333\n",
      "3    0.108333\n",
      "4    0.046333\n",
      "5    0.015667\n",
      "6    0.002667\n",
      "7    0.000667\n",
      "8    0.000333\n",
      "Name: Quantidade, dtype: float64\n"
     ]
    }
   ],
   "source": [
    "print(carros.Quantidade.value_counts(True))\n"
   ]
  },
  {
   "cell_type": "code",
   "execution_count": 48,
   "metadata": {
    "collapsed": false
   },
   "outputs": [
    {
     "data": {
      "text/plain": [
       "1.3713333333333333"
      ]
     },
     "execution_count": 48,
     "metadata": {},
     "output_type": "execute_result"
    }
   ],
   "source": [
    "carros.Quantidade.mean()"
   ]
  },
  {
   "cell_type": "code",
   "execution_count": 49,
   "metadata": {
    "collapsed": false
   },
   "outputs": [
    {
     "data": {
      "text/plain": [
       "1.5799715460709343"
      ]
     },
     "execution_count": 49,
     "metadata": {},
     "output_type": "execute_result"
    }
   ],
   "source": [
    "carros.Quantidade.var()"
   ]
  },
  {
   "cell_type": "markdown",
   "metadata": {},
   "source": [
    "b) Com essa interpretação estamos avaliando 14 itens do carro e cada um tem 0.1 de chance de ter sucesso. no entanto esse modelo não é válido pq nem todos os aspectos avaliados tem a mesma probabilidade de dar certo ou não, além disso os 3000 carros são diferentes o que fazem com que cada carro tenha uma probabilidade diferente de estar quebrado ou não para cada item.\n",
    "\n",
    "\n"
   ]
  },
  {
   "cell_type": "code",
   "execution_count": 50,
   "metadata": {
    "collapsed": false
   },
   "outputs": [
    {
     "name": "stdout",
     "output_type": "stream",
     "text": [
      "[0.22876792454960998, 0.35586121596606141, 0.2570108781977114, 0.11422705697676022, 0.034902711854010011, 0.0077561581897800267, 0.0012926930316300015, 0.00016415149608000069, 1.5959173230000058e-05, 1.1821609800000021e-06, 6.5675610000000304e-08, 2.6535600000000108e-09, 7.3710000000000372e-11, 1.2600000000000108e-12, 1.0000000000000058e-14]\n"
     ]
    }
   ],
   "source": [
    "#c)\n",
    "pr = []\n",
    "p = 0.1\n",
    "n = 14\n",
    "for y in range(n+1):\n",
    "    pr.append(stats.binom.pmf(y,n,p))\n",
    "print (pr)"
   ]
  },
  {
   "cell_type": "code",
   "execution_count": 51,
   "metadata": {
    "collapsed": false,
    "scrolled": true
   },
   "outputs": [
    {
     "name": "stdout",
     "output_type": "stream",
     "text": [
      "1.4000000000000001\n"
     ]
    }
   ],
   "source": [
    "media = n*p\n",
    "print (media)"
   ]
  },
  {
   "cell_type": "code",
   "execution_count": 52,
   "metadata": {
    "collapsed": false
   },
   "outputs": [
    {
     "name": "stdout",
     "output_type": "stream",
     "text": [
      "1.2600000000000002\n"
     ]
    }
   ],
   "source": [
    "variancia = n*p*(1-p)\n",
    "print (variancia)"
   ]
  },
  {
   "cell_type": "code",
   "execution_count": 63,
   "metadata": {
    "collapsed": false
   },
   "outputs": [
    {
     "data": {
      "image/png": "[encoded data removed]",
      "text/plain": [
       "<matplotlib.figure.Figure at 0x1d406f24748>"
      ]
     },
     "metadata": {},
     "output_type": "display_data"
    },
    {
     "data": {
      "text/plain": [
       "<matplotlib.legend.Legend at 0x1d406ff06a0>"
      ]
     },
     "execution_count": 63,
     "metadata": {},
     "output_type": "execute_result"
    },
    {
     "data": {
      "image/png": "[encoded data removed]",
      "text/plain": [
       "<matplotlib.figure.Figure at 0x1d406f9ecc0>"
      ]
     },
     "metadata": {},
     "output_type": "display_data"
    }
   ],
   "source": [
    "#d)\n",
    "plt.plot(pr,'')\n",
    "plt.show()\n",
    "plt.plot(pr,'o')\n",
    "plt.plot(carros.Quantidade.value_counts(True),\"o\")\n",
    "plt.legend(('Teóricos','Reais'))"
   ]
  },
  {
   "cell_type": "markdown",
   "metadata": {},
   "source": [
    "O eixo y é a probabilidade de ocorrer a quantidade de erros do eixo x, já que é um gráfico plotado a partir dos dados teóricos do item c.\n"
   ]
  },
  {
   "cell_type": "markdown",
   "metadata": {},
   "source": [
    "e)\n",
    "Um modelo probabilistico é importante  pois passa uma representação teorica que pode ser abstraida para a realidade, sem necessitar analisar os dados reais, assim pode-se estipular o mesmo modelo para um caso bem maior.\n"
   ]
  },
  {
   "cell_type": "markdown",
   "metadata": {},
   "source": [
    "f) Ainda assim não é coerente, pois mesmo sendo apenas carros populares a probabilidade de cadad item estar errado muda de um carro para outro e a probabilidade de um item estar errado é diferente para cada item.\n",
    "Para melhorar esse sitema cada item deve ter sua própria probabilidade de ter sucesso, diferentes modelos de carro também deve mudar essas probabilidades."
   ]
  },
  {
   "cell_type": "code",
   "execution_count": 71,
   "metadata": {
    "collapsed": false
   },
   "outputs": [
    {
     "name": "stdout",
     "output_type": "stream",
     "text": [
      "[0.16701574306830982, 0.31884823676677443, 0.28261548258873226, 0.15415389959385345, 0.057807712347694939, 0.015765739731189537, 0.0032248103995614974, 0.00050256785447711709, 5.9965482636474141e-05, 5.4514075124067395e-06, 3.7168687584591307e-07, 1.8430754174177624e-08, 6.2832116502878317e-10, 1.3181562902701741e-11, 1.2839184645488674e-13]\n"
     ]
    },
    {
     "data": {
      "text/plain": [
       "<matplotlib.legend.Legend at 0x1d407034588>"
      ]
     },
     "execution_count": 71,
     "metadata": {},
     "output_type": "execute_result"
    },
    {
     "data": {
      "image/png": "[encoded data removed]",
      "text/plain": [
       "<matplotlib.figure.Figure at 0x1d406dac278>"
      ]
     },
     "metadata": {},
     "output_type": "display_data"
    }
   ],
   "source": [
    "pp = []\n",
    "p = 0.12\n",
    "n = 14\n",
    "for y in range(n+1):\n",
    "    pp.append(stats.binom.pmf(y,n,p))\n",
    "print (pp)\n",
    "plt.plot(pp,'o')\n",
    "plt.plot(carros.Quantidade.value_counts(True),\"o\")\n",
    "plt.legend(('Teóricos','Reais'))"
   ]
  }
 ],
 "metadata": {
  "anaconda-cloud": {},
  "kernelspec": {
   "display_name": "Python 3",
   "language": "python",
   "name": "python3"
  },
  "language_info": {
   "codemirror_mode": {
    "name": "ipython",
    "version": 3
   },
   "file_extension": ".py",
   "mimetype": "text/x-python",
   "name": "python",
   "nbconvert_exporter": "python",
   "pygments_lexer": "ipython3",
   "version": "3.5.1"
  }
 },
 "nbformat": 4,
 "nbformat_minor": 0
}
