{
 "cells": [
  {
   "cell_type": "markdown",
   "metadata": {},
   "source": [
    "___\n",
    "# MINIPROJETO 1"
   ]
  },
  {
   "cell_type": "markdown",
   "metadata": {},
   "source": [
    "## <font color='red'>Leonadro Grotti</font>\n",
    "___"
   ]
  },
  {
   "cell_type": "markdown",
   "metadata": {},
   "source": [
    "## <font color='blue'>Nivel de fertilidade adolescentes (número de nascimentos por 1000 mulhere com idade de 15 a 19 anos)</font>"
   ]
  },
  {
   "cell_type": "markdown",
   "metadata": {},
   "source": [
    "___\n",
    "### Itens 1 a 3 - Resolução:"
   ]
  },
  {
   "cell_type": "code",
   "execution_count": 320,
   "metadata": {
    "collapsed": false
   },
   "outputs": [
    {
     "name": "stdout",
     "output_type": "stream",
     "text": [
      "Esperamos trabalhar no diretório\n",
      "C:\\Users\\Asus Pro\\Downloads\n"
     ]
    }
   ],
   "source": [
    "%matplotlib inline\n",
    "import pandas as pd\n",
    "import matplotlib.pyplot as plt\n",
    "import numpy as np\n",
    "import os\n",
    "from scipy import stats\n",
    "\n",
    "print('Esperamos trabalhar no diretório')\n",
    "print(os.getcwd())"
   ]
  },
  {
   "cell_type": "code",
   "execution_count": 321,
   "metadata": {
    "collapsed": false
   },
   "outputs": [
    {
     "data": {
      "text/html": [
       "<div>\n",
       "<table border=\"1\" class=\"dataframe\">\n",
       "  <thead>\n",
       "    <tr style=\"text-align: right;\">\n",
       "      <th></th>\n",
       "      <th>Country Name</th>\n",
       "      <th>Country Code</th>\n",
       "      <th>Indicator Name</th>\n",
       "      <th>Indicator Code</th>\n",
       "      <th>1960</th>\n",
       "      <th>1961</th>\n",
       "      <th>1962</th>\n",
       "      <th>1963</th>\n",
       "      <th>1964</th>\n",
       "      <th>1965</th>\n",
       "      <th>...</th>\n",
       "      <th>2006</th>\n",
       "      <th>2007</th>\n",
       "      <th>2008</th>\n",
       "      <th>2009</th>\n",
       "      <th>2010</th>\n",
       "      <th>2011</th>\n",
       "      <th>2012</th>\n",
       "      <th>2013</th>\n",
       "      <th>Ano2014</th>\n",
       "      <th>2015</th>\n",
       "    </tr>\n",
       "  </thead>\n",
       "  <tbody>\n",
       "    <tr>\n",
       "      <th>0</th>\n",
       "      <td>Aruba</td>\n",
       "      <td>ABW</td>\n",
       "      <td>Adolescent fertility rate (births per 1,000 wo...</td>\n",
       "      <td>SP.ADO.TFRT</td>\n",
       "      <td>106.2062</td>\n",
       "      <td>102.8116</td>\n",
       "      <td>99.417</td>\n",
       "      <td>94.4542</td>\n",
       "      <td>89.4914</td>\n",
       "      <td>84.5286</td>\n",
       "      <td>...</td>\n",
       "      <td>34.9382</td>\n",
       "      <td>33.393</td>\n",
       "      <td>32.0268</td>\n",
       "      <td>30.6606</td>\n",
       "      <td>29.2944</td>\n",
       "      <td>27.9282</td>\n",
       "      <td>26.562</td>\n",
       "      <td>24.8420</td>\n",
       "      <td>23.1220</td>\n",
       "      <td>NaN</td>\n",
       "    </tr>\n",
       "    <tr>\n",
       "      <th>1</th>\n",
       "      <td>Andorra</td>\n",
       "      <td>AND</td>\n",
       "      <td>Adolescent fertility rate (births per 1,000 wo...</td>\n",
       "      <td>SP.ADO.TFRT</td>\n",
       "      <td>NaN</td>\n",
       "      <td>NaN</td>\n",
       "      <td>NaN</td>\n",
       "      <td>NaN</td>\n",
       "      <td>NaN</td>\n",
       "      <td>NaN</td>\n",
       "      <td>...</td>\n",
       "      <td>NaN</td>\n",
       "      <td>NaN</td>\n",
       "      <td>NaN</td>\n",
       "      <td>NaN</td>\n",
       "      <td>NaN</td>\n",
       "      <td>NaN</td>\n",
       "      <td>NaN</td>\n",
       "      <td>NaN</td>\n",
       "      <td>NaN</td>\n",
       "      <td>NaN</td>\n",
       "    </tr>\n",
       "    <tr>\n",
       "      <th>2</th>\n",
       "      <td>Afghanistan</td>\n",
       "      <td>AFG</td>\n",
       "      <td>Adolescent fertility rate (births per 1,000 wo...</td>\n",
       "      <td>SP.ADO.TFRT</td>\n",
       "      <td>145.3210</td>\n",
       "      <td>145.3210</td>\n",
       "      <td>145.321</td>\n",
       "      <td>145.3210</td>\n",
       "      <td>145.3210</td>\n",
       "      <td>145.3210</td>\n",
       "      <td>...</td>\n",
       "      <td>123.1616</td>\n",
       "      <td>117.390</td>\n",
       "      <td>111.4708</td>\n",
       "      <td>105.5516</td>\n",
       "      <td>99.6324</td>\n",
       "      <td>93.7132</td>\n",
       "      <td>87.794</td>\n",
       "      <td>82.2638</td>\n",
       "      <td>76.7336</td>\n",
       "      <td>NaN</td>\n",
       "    </tr>\n",
       "    <tr>\n",
       "      <th>3</th>\n",
       "      <td>Angola</td>\n",
       "      <td>AGO</td>\n",
       "      <td>Adolescent fertility rate (births per 1,000 wo...</td>\n",
       "      <td>SP.ADO.TFRT</td>\n",
       "      <td>234.6840</td>\n",
       "      <td>235.0020</td>\n",
       "      <td>235.320</td>\n",
       "      <td>235.3200</td>\n",
       "      <td>235.3200</td>\n",
       "      <td>235.3200</td>\n",
       "      <td>...</td>\n",
       "      <td>191.9584</td>\n",
       "      <td>188.404</td>\n",
       "      <td>185.9120</td>\n",
       "      <td>183.4200</td>\n",
       "      <td>180.9280</td>\n",
       "      <td>178.4360</td>\n",
       "      <td>175.944</td>\n",
       "      <td>171.2734</td>\n",
       "      <td>166.6028</td>\n",
       "      <td>NaN</td>\n",
       "    </tr>\n",
       "    <tr>\n",
       "      <th>4</th>\n",
       "      <td>Albania</td>\n",
       "      <td>ALB</td>\n",
       "      <td>Adolescent fertility rate (births per 1,000 wo...</td>\n",
       "      <td>SP.ADO.TFRT</td>\n",
       "      <td>54.4408</td>\n",
       "      <td>56.1654</td>\n",
       "      <td>57.890</td>\n",
       "      <td>55.3680</td>\n",
       "      <td>52.8460</td>\n",
       "      <td>50.3240</td>\n",
       "      <td>...</td>\n",
       "      <td>18.7270</td>\n",
       "      <td>18.600</td>\n",
       "      <td>19.0396</td>\n",
       "      <td>19.4792</td>\n",
       "      <td>19.9188</td>\n",
       "      <td>20.3584</td>\n",
       "      <td>20.798</td>\n",
       "      <td>21.1438</td>\n",
       "      <td>21.4896</td>\n",
       "      <td>NaN</td>\n",
       "    </tr>\n",
       "  </tbody>\n",
       "</table>\n",
       "<p>5 rows × 60 columns</p>\n",
       "</div>"
      ],
      "text/plain": [
       "  Country Name Country Code  \\\n",
       "0        Aruba          ABW   \n",
       "1      Andorra          AND   \n",
       "2  Afghanistan          AFG   \n",
       "3       Angola          AGO   \n",
       "4      Albania          ALB   \n",
       "\n",
       "                                      Indicator Name Indicator Code      1960  \\\n",
       "0  Adolescent fertility rate (births per 1,000 wo...    SP.ADO.TFRT  106.2062   \n",
       "1  Adolescent fertility rate (births per 1,000 wo...    SP.ADO.TFRT       NaN   \n",
       "2  Adolescent fertility rate (births per 1,000 wo...    SP.ADO.TFRT  145.3210   \n",
       "3  Adolescent fertility rate (births per 1,000 wo...    SP.ADO.TFRT  234.6840   \n",
       "4  Adolescent fertility rate (births per 1,000 wo...    SP.ADO.TFRT   54.4408   \n",
       "\n",
       "       1961     1962      1963      1964      1965  ...       2006     2007  \\\n",
       "0  102.8116   99.417   94.4542   89.4914   84.5286  ...    34.9382   33.393   \n",
       "1       NaN      NaN       NaN       NaN       NaN  ...        NaN      NaN   \n",
       "2  145.3210  145.321  145.3210  145.3210  145.3210  ...   123.1616  117.390   \n",
       "3  235.0020  235.320  235.3200  235.3200  235.3200  ...   191.9584  188.404   \n",
       "4   56.1654   57.890   55.3680   52.8460   50.3240  ...    18.7270   18.600   \n",
       "\n",
       "       2008      2009      2010      2011     2012      2013   Ano2014  2015  \n",
       "0   32.0268   30.6606   29.2944   27.9282   26.562   24.8420   23.1220   NaN  \n",
       "1       NaN       NaN       NaN       NaN      NaN       NaN       NaN   NaN  \n",
       "2  111.4708  105.5516   99.6324   93.7132   87.794   82.2638   76.7336   NaN  \n",
       "3  185.9120  183.4200  180.9280  178.4360  175.944  171.2734  166.6028   NaN  \n",
       "4   19.0396   19.4792   19.9188   20.3584   20.798   21.1438   21.4896   NaN  \n",
       "\n",
       "[5 rows x 60 columns]"
      ]
     },
     "execution_count": 321,
     "metadata": {},
     "output_type": "execute_result"
    }
   ],
   "source": [
    "dados = pd.read_excel('database1.xlsx', sep=',')\n",
    "dados.head()"
   ]
  },
  {
   "cell_type": "code",
   "execution_count": 322,
   "metadata": {
    "collapsed": false
   },
   "outputs": [
    {
     "data": {
      "text/plain": [
       "(264, 60)"
      ]
     },
     "execution_count": 322,
     "metadata": {},
     "output_type": "execute_result"
    }
   ],
   "source": [
    "dados.shape"
   ]
  },
  {
   "cell_type": "code",
   "execution_count": 323,
   "metadata": {
    "collapsed": false
   },
   "outputs": [],
   "source": [
    "d=pd.DataFrame()\n",
    "d['Ano_2014']=dados[~dados.Ano2014.isnull()].Ano2014"
   ]
  },
  {
   "cell_type": "code",
   "execution_count": 324,
   "metadata": {
    "collapsed": false
   },
   "outputs": [
    {
     "data": {
      "text/plain": [
       "count    240.000000\n",
       "mean      48.097278\n",
       "std       37.975924\n",
       "min        0.560800\n",
       "25%       16.809850\n",
       "50%       40.008900\n",
       "75%       68.621000\n",
       "max      203.604000\n",
       "Name: Ano_2014, dtype: float64"
      ]
     },
     "execution_count": 324,
     "metadata": {},
     "output_type": "execute_result"
    }
   ],
   "source": [
    "d['Ano_2014'].describe()"
   ]
  },
  {
   "cell_type": "code",
   "execution_count": 325,
   "metadata": {
    "collapsed": true
   },
   "outputs": [],
   "source": [
    "media = 48.97278\n"
   ]
  },
  {
   "cell_type": "code",
   "execution_count": 326,
   "metadata": {
    "collapsed": true
   },
   "outputs": [],
   "source": [
    "faixa = np.arange (0,203,3)"
   ]
  },
  {
   "cell_type": "code",
   "execution_count": 327,
   "metadata": {
    "collapsed": false
   },
   "outputs": [
    {
     "data": {
      "image/png": "[encoded data removed]",
      "text/plain": [
       "<matplotlib.figure.Figure at 0x2b1dad7358>"
      ]
     },
     "metadata": {},
     "output_type": "display_data"
    }
   ],
   "source": [
    "plot = d.Ano_2014.plot.hist(normed=True, bins=faixa)\n",
    "#freq_rel = d['Ano_2014'].value_counts(True)\n",
    "#print(freq_rel)"
   ]
  },
  {
   "cell_type": "markdown",
   "metadata": {
    "collapsed": true
   },
   "source": [
    "___\n",
    "### Itens 4 a 6 - Resolução:"
   ]
  },
  {
   "cell_type": "markdown",
   "metadata": {},
   "source": [
    "## Questão 4"
   ]
  },
  {
   "cell_type": "markdown",
   "metadata": {},
   "source": [
    "###  Dado que neste histograma sua média é maior que sua mediana, e essa, maior que sua moda, ele é assimétrico à direita ou positivo."
   ]
  },
  {
   "cell_type": "markdown",
   "metadata": {},
   "source": [
    "### Distribuição de Poisson: A distribuição  de  Poisson  é  empregada  em  experimentos,  nos  quais  não  se  está interessado  no  número  de  sucessos obtidos  em  n tentativas,  mas  sim  no  número  de  sucessos  ocorridos durante um intervalo contínuo, que pode ser um intervalo de tempo, espaço, etc. \n",
    "Ou seja a distribuição de Poisson é usada para encontrar a probabilidade de um número designado de sucessos por unidade de\n",
    "intervalo por exemplo o número de nascimentos por 1000 mulheres (para meninas de 15 anos a 18 anos) em um determinado período de tempo ou o número de nascimentos por 1000 mulheres (para meninas de 15 anos a 18 anos) em determinados países como é o caso estudado acima, o único defeito desse modelo é que quando pegamos os países como intervalo de espaço, o mesmo passa a não ser contínuo."
   ]
  },
  {
   "cell_type": "markdown",
   "metadata": {
    "collapsed": true
   },
   "source": [
    "### Distribuição Binomial negativa: A distribuição Binomial negativa estuda a probabilidade de se obter um número certo de sucesso em k tentativas.\n"
   ]
  },
  {
   "cell_type": "markdown",
   "metadata": {
    "collapsed": true
   },
   "source": [
    "Ou seja caso tivessemos como objetivo aumentar a quantidade de filhos por 1000 mulheres e considerassemos como sucesso ter mais que 70 filhos poderiamos calcular a probabilidade de ter pelo menos tres paises entre cada dez escolhidos com essa taxa mínima de filhos."
   ]
  },
  {
   "cell_type": "markdown",
   "metadata": {},
   "source": [
    "## Questão 5"
   ]
  },
  {
   "cell_type": "code",
   "execution_count": 328,
   "metadata": {
    "collapsed": false
   },
   "outputs": [
    {
     "data": {
      "text/plain": [
       "count    240.000000\n",
       "mean      48.097278\n",
       "std       37.975924\n",
       "min        0.560800\n",
       "25%       16.809850\n",
       "50%       40.008900\n",
       "75%       68.621000\n",
       "max      203.604000\n",
       "Name: Ano_2014, dtype: float64"
      ]
     },
     "execution_count": 328,
     "metadata": {},
     "output_type": "execute_result"
    }
   ],
   "source": [
    "d['Ano_2014'].describe()"
   ]
  },
  {
   "cell_type": "code",
   "execution_count": 329,
   "metadata": {
    "collapsed": false
   },
   "outputs": [
    {
     "data": {
      "image/png": "[encoded data removed]",
      "text/plain": [
       "<matplotlib.figure.Figure at 0x2b1907fe80>"
      ]
     },
     "metadata": {},
     "output_type": "display_data"
    }
   ],
   "source": [
    "x = sorted(d.Ano_2014)\n",
    "k = np.arange(0,240,1)\n",
    "plt.plot(x,stats.poisson.pmf(k,200 ,loc=-170))\n",
    "plot = d.Ano_2014.plot.hist(normed=True, bins=faixa)\n"
   ]
  },
  {
   "cell_type": "markdown",
   "metadata": {},
   "source": [
    "### Ao usar a distribuição de poisson, não obtive um resultado muito próximo ao do gráfico mesmo alterando o valor da média, chegando a conclusão de que essa distribuição não serve para essa distribuição."
   ]
  },
  {
   "cell_type": "code",
   "execution_count": 330,
   "metadata": {
    "collapsed": false
   },
   "outputs": [
    {
     "data": {
      "image/png": "[encoded data removed]",
      "text/plain": [
       "<matplotlib.figure.Figure at 0x2b1d70ff98>"
      ]
     },
     "metadata": {},
     "output_type": "display_data"
    }
   ],
   "source": [
    "\n",
    "from scipy.stats import nbinom\n",
    "import numpy as np\n",
    "import matplotlib.pyplot as plt\n",
    "fig, ax = plt.subplots(1, 1)\n",
    "\n",
    "n, p = 30.0, 0.275\n",
    "mean, var, skew, kurt = nbinom.stats(n, p, moments='mvsk')\n",
    "\n",
    "x = np.arange(nbinom.ppf(0.0001, n, p),\n",
    "              nbinom.ppf(0.99999, n, p))\n",
    "ax.plot(x, nbinom.pmf(x, n, p), 'bo',color='red', ms=8, label='nbinom pmf')\n",
    "\n",
    "\n",
    "\n",
    "plot = d.Ano_2014.plot.hist(normed=True, bins=faixa)\n"
   ]
  },
  {
   "cell_type": "markdown",
   "metadata": {},
   "source": [
    "### O mesmo aconteceu com o gráfico da distribuição binomial negativa onde, novamente, o resultado esperado não foi alcançado.\n",
    "### Devido ao fato das distribuições escolhidas no exercício 4 não representarem bem o meu histograma eu fui atras de outras distribuições que se aproximassem mais com o histograma"
   ]
  },
  {
   "cell_type": "markdown",
   "metadata": {},
   "source": [
    "### Depois de pesquisar os gráficos das distribuições cheguei a conclusão de que a gamma e a exponencial poderiam se aproximar muito do histograma, como desejado, e portanto fiz plotei os graficos das mesmas com o histograma:"
   ]
  },
  {
   "cell_type": "code",
   "execution_count": 331,
   "metadata": {
    "collapsed": false
   },
   "outputs": [
    {
     "data": {
      "image/png": "[encoded data removed]",
      "text/plain": [
       "<matplotlib.figure.Figure at 0x2b1c318b70>"
      ]
     },
     "metadata": {},
     "output_type": "display_data"
    }
   ],
   "source": [
    "x = sorted(d.Ano_2014)\n",
    "\n",
    "tempos = np.linspace(0, 70, 100)\n",
    "\n",
    "# k para a gamma é escolhido entre 1 e 2 baseado na forma do histograma e no efeito que k tem na forma da gamma\n",
    "k_gamma = 1.65\n",
    "\n",
    "# Estimamos theta da distribuição gamma\n",
    "theta_gamma = tempos.mean()/k_gamma\n",
    "\n",
    "gamma = stats.gamma.pdf(x, scale=theta_gamma, loc=0, a=k_gamma)\n",
    "\n",
    "plt.plot(x, gamma, '-', color='green', label=\"Gamma\") # Plota a gamma teórica\n",
    "plt.legend()\n",
    "\n",
    "plot = d.Ano_2014.plot.hist(normed=True, bins=faixa)"
   ]
  },
  {
   "cell_type": "code",
   "execution_count": 332,
   "metadata": {
    "collapsed": false
   },
   "outputs": [
    {
     "data": {
      "image/png": "[encoded data removed]",
      "text/plain": [
       "<matplotlib.figure.Figure at 0x2b1946e470>"
      ]
     },
     "metadata": {},
     "output_type": "display_data"
    }
   ],
   "source": [
    "mu_exp = tempos.mean()\n",
    "\n",
    "exponencial = stats.expon.pdf(x, scale=mu_exp, loc = 0)\n",
    "plt.plot(x, exponencial, '-', color='red', label=\"Exponencial\") # Plota a exponencial teórica\n",
    "plt.legend()\n",
    "\n",
    "plot = d.Ano_2014.plot.hist(normed=True, bins=faixa)\n"
   ]
  },
  {
   "cell_type": "markdown",
   "metadata": {},
   "source": [
    "### Dessa vez os resultados foram muito melhores e portanto seguirei usando essas distribuições"
   ]
  },
  {
   "cell_type": "markdown",
   "metadata": {},
   "source": [
    "## Questão 6"
   ]
  },
  {
   "cell_type": "code",
   "execution_count": 333,
   "metadata": {
    "collapsed": false
   },
   "outputs": [
    {
     "data": {
      "text/plain": [
       "(1.3651134088398174, 0.38952081890314066, 34.947836360997854)"
      ]
     },
     "execution_count": 333,
     "metadata": {},
     "output_type": "execute_result"
    }
   ],
   "source": [
    "stats.gamma.fit(d.Ano_2014)"
   ]
  },
  {
   "cell_type": "code",
   "execution_count": 334,
   "metadata": {
    "collapsed": false
   },
   "outputs": [
    {
     "name": "stdout",
     "output_type": "stream",
     "text": [
      "1.65\n"
     ]
    }
   ],
   "source": [
    "print (k_gamma)"
   ]
  },
  {
   "cell_type": "markdown",
   "metadata": {},
   "source": [
    "valor de referencia inicial = 0 (loc)"
   ]
  },
  {
   "cell_type": "code",
   "execution_count": 335,
   "metadata": {
    "collapsed": false
   },
   "outputs": [
    {
     "name": "stdout",
     "output_type": "stream",
     "text": [
      "21.2121212121\n"
     ]
    }
   ],
   "source": [
    "print (theta_gamma)"
   ]
  },
  {
   "cell_type": "markdown",
   "metadata": {},
   "source": [
    "### Os valores escolhidos por mim : k_gama, valor de referencia inicial estão próximos dos valores teóricos o que me mostra que a escolha foi boa e portanto não preciso trocar os valores, no entanto, o valor de theta_gama foge do valor passado pelo fit o que mostra que esse parametro talvez não tenha sido bem escolhido"
   ]
  },
  {
   "cell_type": "code",
   "execution_count": 336,
   "metadata": {
    "collapsed": false
   },
   "outputs": [
    {
     "data": {
      "text/plain": [
       "(0.5607999659635331, 1.9602345629557347)"
      ]
     },
     "execution_count": 336,
     "metadata": {},
     "output_type": "execute_result"
    }
   ],
   "source": [
    "stats.expon.fit(d.Ano_2014)\n"
   ]
  },
  {
   "cell_type": "code",
   "execution_count": 337,
   "metadata": {
    "collapsed": false
   },
   "outputs": [
    {
     "name": "stdout",
     "output_type": "stream",
     "text": [
      "35.0\n"
     ]
    }
   ],
   "source": [
    "print(mu_exp)"
   ]
  },
  {
   "cell_type": "markdown",
   "metadata": {},
   "source": [
    "valor de referencia inicial = 0 (loc)"
   ]
  },
  {
   "cell_type": "markdown",
   "metadata": {},
   "source": [
    "### Nesse caso os valores definidos por mim não se aproximam aos passados pelo fit o que me leva a pensar que possivelmente os parametros não estão tão bons e que seja melhor seguir com os valores passados pelo fit"
   ]
  },
  {
   "cell_type": "markdown",
   "metadata": {
    "collapsed": true
   },
   "source": [
    "___\n",
    "### Itens 7 a 9 - Resolução:"
   ]
  },
  {
   "cell_type": "markdown",
   "metadata": {
    "collapsed": true
   },
   "source": [
    "## Questão 7"
   ]
  },
  {
   "cell_type": "code",
   "execution_count": 338,
   "metadata": {
    "collapsed": false
   },
   "outputs": [
    {
     "data": {
      "image/png": "[encoded data removed]",
      "text/plain": [
       "<matplotlib.figure.Figure at 0x2b191a01d0>"
      ]
     },
     "metadata": {},
     "output_type": "display_data"
    }
   ],
   "source": [
    "\n",
    "a1 = 1.3651134088398174\n",
    "theta_gamma1 = 34.947836360997854\n",
    "gamma = stats.gamma.pdf(x, scale=theta_gamma1, loc=0.38952081890314066, a=a1)\n",
    "plt.plot(x, gamma, '-', color='green', label=\"Gamma\") # Plota a gamma teórica\n",
    "plt.legend()\n",
    "\n",
    "plot = d.Ano_2014.plot.hist(normed=True, bins=faixa)\n"
   ]
  },
  {
   "cell_type": "markdown",
   "metadata": {},
   "source": [
    "### Esse gráfico representa a distribuição gamma com os valores passados pelo fit. Ele se aproximou muito ao histograma com os dados mostrando que de fato esses valores são bons para essa situação."
   ]
  },
  {
   "cell_type": "code",
   "execution_count": 339,
   "metadata": {
    "collapsed": false
   },
   "outputs": [
    {
     "data": {
      "image/png": "[encoded data removed]",
      "text/plain": [
       "<matplotlib.figure.Figure at 0x2b18338320>"
      ]
     },
     "metadata": {},
     "output_type": "display_data"
    }
   ],
   "source": [
    "mu_exp1 = 1.9602345629557347  \n",
    "exponencial = stats.expon.pdf(x, scale=mu_exp1, loc = 0.5607999659635331)\n",
    "plt.plot(x, exponencial, '-', color='red', label=\"Exponencial\") # Plota a exponencial teórica\n",
    "plt.legend()\n",
    "\n",
    "plot = d.Ano_2014.plot.hist(normed=True, bins=faixa)"
   ]
  },
  {
   "cell_type": "markdown",
   "metadata": {},
   "source": [
    "### Nesse caso a distribuição exponencial  que foi plotado foi a  com os valores passados pelo fit e dessa vez os valores não ficaram perto dos reais\n"
   ]
  },
  {
   "cell_type": "markdown",
   "metadata": {},
   "source": [
    "## Questão 8"
   ]
  },
  {
   "cell_type": "markdown",
   "metadata": {},
   "source": [
    "### Esse gráfico esá comparando os valores passados pelo histograma com os valores passados pelo fit, para a gamma os valores ficaram muito proximos dos reais, principalmente no início, no entanto, os valores da exponencial fugiram muito dos valores reais"
   ]
  },
  {
   "cell_type": "code",
   "execution_count": 340,
   "metadata": {
    "collapsed": false
   },
   "outputs": [
    {
     "data": {
      "image/png": "[encoded data removed]",
      "text/plain": [
       "<matplotlib.figure.Figure at 0x2b1ace2438>"
      ]
     },
     "metadata": {},
     "output_type": "display_data"
    }
   ],
   "source": [
    "\n",
    "tempos = np.linspace(0, 70, 100)\n",
    "# Calcula a frequência relativa acumulada com os dados vindos dos arquivos\n",
    "fra = [] # frequencia relativa acumulada\n",
    "for i in range(len(tempos)):\n",
    "    acc = (i - 0.5) / len(tempos)\n",
    "    if acc < 0:\n",
    "        acc = 0\n",
    "    fra.append(acc) # ver Magalhães e Lima (pag. 195)\n",
    "\n",
    "# Convertemos fra em uma Series do Pandas\n",
    "fra = pd.Series(data=fra)\n",
    "\n",
    "# Gera os valores dos quantis teóricos para as distribuições analisadas\n",
    "q_exp = stats.expon.ppf(fra,scale=mu_exp1, loc = 0.5607999659635331) # quantis teóricos da exponencial\n",
    "q_gamma = stats.gamma.ppf(fra, scale=theta_gamma1, loc=0.38952081890314066, a=a1)\n",
    "\n",
    "\n",
    "fig = plt.figure(figsize=(12,8))\n",
    "\n",
    "plt.title(\"Q-Q plot: Dados x Exponencial x Gamma\")\n",
    "\n",
    "exp_plot, = plt.plot(tempos, q_exp, 'o', color=\"red\", label=\"Exponencial\")\n",
    "gamma_plot, = plt.plot(tempos, q_gamma, 'o', color=\"green\", label = \"Gamma\")\n",
    "\n",
    "plt.legend(handles=[exp_plot, gamma_plot])\n",
    "plt.plot((min(tempos), max(tempos)), (min(tempos), max(tempos)), '-')\n",
    "\n",
    "\n",
    "for i in range(len(tempos)):\n",
    "    plt.plot((tempos[i], tempos[i]), (q_exp[i], tempos[i]), '-', color='red', alpha=0.3  )\n",
    "    plt.plot((tempos[i], tempos[i]), (q_gamma[i], tempos[i]), '-', color='green', alpha=0.3  )"
   ]
  },
  {
   "cell_type": "markdown",
   "metadata": {},
   "source": [
    "### Esse gráfico mostra a diferença de cada ponto do gráfico real com a linha feita pela distribuição gamma e exponencial COM OS VALORES TESTADOS POR MIM."
   ]
  },
  {
   "cell_type": "code",
   "execution_count": 341,
   "metadata": {
    "collapsed": false
   },
   "outputs": [
    {
     "data": {
      "image/png": "[encoded data removed]",
      "text/plain": [
       "<matplotlib.figure.Figure at 0x2b1adc8ba8>"
      ]
     },
     "metadata": {},
     "output_type": "display_data"
    }
   ],
   "source": [
    "\n",
    "tempos = np.linspace(0, 70, 100)\n",
    "# Calcula a frequência relativa acumulada com os dados vindos dos arquivos\n",
    "fra = [] # frequencia relativa acumulada\n",
    "for i in range(len(tempos)):\n",
    "    acc = (i - 0.5) / len(tempos)\n",
    "    if acc < 0:\n",
    "        acc = 0\n",
    "    fra.append(acc) # ver Magalhães e Lima (pag. 195)\n",
    "\n",
    "# Convertemos fra em uma Series do Pandas\n",
    "fra = pd.Series(data=fra)\n",
    "\n",
    "# Gera os valores dos quantis teóricos para as distribuições analisadas\n",
    "q_exp = stats.expon.ppf(fra, scale=mu_exp) # quantis teóricos da exponencial\n",
    "q_gamma = stats.gamma.ppf(fra, scale=theta_gamma, loc=0, a=k_gamma)\n",
    "\n",
    "\n",
    "fig = plt.figure(figsize=(12,8))\n",
    "\n",
    "plt.title(\"Q-Q plot: Dados x Exponencial x Gamma\")\n",
    "\n",
    "exp_plot, = plt.plot(tempos, q_exp, 'o', color=\"red\", label=\"Exponencial\")\n",
    "gamma_plot, = plt.plot(tempos, q_gamma, 'o', color=\"green\", label = \"Gamma\")\n",
    "\n",
    "plt.legend(handles=[exp_plot, gamma_plot])\n",
    "plt.plot((min(tempos), max(tempos)), (min(tempos), max(tempos)), '-')\n",
    "\n",
    "\n",
    "for i in range(len(tempos)):\n",
    "    plt.plot((tempos[i], tempos[i]), (q_exp[i], tempos[i]), '-', color='red', alpha=0.3  )\n",
    "    plt.plot((tempos[i], tempos[i]), (q_gamma[i], tempos[i]), '-', color='green', alpha=0.3  )\n"
   ]
  },
  {
   "cell_type": "markdown",
   "metadata": {},
   "source": [
    "## Questão 9"
   ]
  },
  {
   "cell_type": "code",
   "execution_count": 342,
   "metadata": {
    "collapsed": false
   },
   "outputs": [
    {
     "data": {
      "image/png": "[encoded data removed]",
      "text/plain": [
       "<matplotlib.figure.Figure at 0x2b1c3b3c18>"
      ]
     },
     "metadata": {},
     "output_type": "display_data"
    }
   ],
   "source": [
    "\n",
    "cdf_exponencial = stats.expon.cdf(tempos, scale=mu_exp) #FDA\n",
    "cdf_gamma = stats.gamma.cdf(tempos, scale=theta_gamma1, loc=0.38952081890314066, a=a1)\n",
    "\n",
    "\n",
    "fig = plt.figure(figsize=(12,8))\n",
    "\n",
    "plt.title(\"Cumulativa: Dados x Exponencial x Gamma\")\n",
    "\n",
    "dados_fra_plot, = plt.plot(tempos, fra, '-', color='black', label=\"F.R.A dos dados\")\n",
    "cdf_exp_plot,   = plt.plot(tempos, cdf_exponencial, '-', color='red', label = \"Cumulativa da exponencial\")\n",
    "cdf_gamma_plot, = plt.plot(tempos, cdf_gamma, '-', color='green', label = \"Cumulativa da distribuição Gamma\")\n",
    "\n",
    "plt.legend(handles=[dados_fra_plot, cdf_exp_plot, cdf_gamma_plot])\n",
    "\n",
    "\n",
    "for i in range(len(tempos)):\n",
    "    plt.plot((tempos[i], tempos[i]), (fra[i], cdf_exponencial[i]), ':', color=\"red\", alpha=0.3)\n",
    "    #Omitido para não poluir muito o gráfico\n",
    "    plt.plot((tempos[i], tempos[i]), (fra[i], cdf_gamma[i]), '--', color=\"green\", alpha=0.3)\n",
    "    "
   ]
  },
  {
   "cell_type": "markdown",
   "metadata": {},
   "source": [
    "### Nesse gráfico estamos comparando a frequencia relativa acumulada dos dados reais com os propostos por mim (daqui em diante seguirei somente com essa analise pois ela esta mais proxima da realidade)"
   ]
  },
  {
   "cell_type": "markdown",
   "metadata": {},
   "source": [
    "___\n",
    "### Itens 10 e 11 - Resolução:"
   ]
  },
  {
   "cell_type": "markdown",
   "metadata": {
    "collapsed": true
   },
   "source": [
    "## Questão 10"
   ]
  },
  {
   "cell_type": "markdown",
   "metadata": {},
   "source": [
    "### Erro quadratico:"
   ]
  },
  {
   "cell_type": "code",
   "execution_count": 355,
   "metadata": {
    "collapsed": false
   },
   "outputs": [
    {
     "name": "stdout",
     "output_type": "stream",
     "text": [
      "Erro quadrático da exponencial :23277.960\n",
      "\n",
      "Erro quadrático da gamma :8218.729\n",
      "\n"
     ]
    }
   ],
   "source": [
    "erro_quadratico_exponencial = sum((tempos - q_exp)**2)\n",
    "erro_quadratico_gamma = sum((tempos - q_gamma)**2)\n",
    "\n",
    "print(\"Erro quadrático da exponencial :{:4.3f}\\n\".format(erro_quadratico_exponencial))\n",
    "print(\"Erro quadrático da gamma :{:4.3f}\\n\".format(erro_quadratico_gamma))"
   ]
  },
  {
   "cell_type": "markdown",
   "metadata": {},
   "source": [
    "### Aqui podemos perceber que o erro é menor na distribuição gamma"
   ]
  },
  {
   "cell_type": "markdown",
   "metadata": {},
   "source": [
    "### Erro quadrático médio"
   ]
  },
  {
   "cell_type": "code",
   "execution_count": 354,
   "metadata": {
    "collapsed": false
   },
   "outputs": [
    {
     "name": "stdout",
     "output_type": "stream",
     "text": [
      "Erro quadratico médio da exponencial : 232.779602618\n",
      "Erro quadratico médio da gamma : 82.1872870919\n"
     ]
    }
   ],
   "source": [
    "eqm_exp = erro_quadratico_exponencial/len(tempos)\n",
    "eqm_gamma = erro_quadratico_gamma/len(tempos)\n",
    "\n",
    "print(\"Erro quadratico médio da exponencial :\", eqm_exp)\n",
    "print(\"Erro quadratico médio da gamma :\", eqm_gamma)"
   ]
  },
  {
   "cell_type": "markdown",
   "metadata": {},
   "source": [
    "### Novamente o erro segue menor na gamma"
   ]
  },
  {
   "cell_type": "markdown",
   "metadata": {},
   "source": [
    "### Soma de diferenças"
   ]
  },
  {
   "cell_type": "code",
   "execution_count": 345,
   "metadata": {
    "collapsed": false
   },
   "outputs": [
    {
     "name": "stdout",
     "output_type": "stream",
     "text": [
      "Soma de diferenças da exponencial : 1037.70385869\n",
      "Soma de diferenças da gamma : 599.911090607\n"
     ]
    }
   ],
   "source": [
    "soma_diferenças_exponencial = sum(abs(tempos - q_exp))\n",
    "soma_diferenças_gamma = sum(abs(tempos - q_gamma))\n",
    "\n",
    "print(\"Soma de diferenças da exponencial :\", soma_diferenças_exponencial)\n",
    "print(\"Soma de diferenças da gamma :\", soma_diferenças_gamma)\n"
   ]
  },
  {
   "cell_type": "markdown",
   "metadata": {},
   "source": [
    "### Como nas outras a gamma mantém um valor melhor do que a exponencial"
   ]
  },
  {
   "cell_type": "markdown",
   "metadata": {},
   "source": [
    "### Erro quadrático nas CDFs"
   ]
  },
  {
   "cell_type": "code",
   "execution_count": 348,
   "metadata": {
    "collapsed": false
   },
   "outputs": [
    {
     "name": "stdout",
     "output_type": "stream",
     "text": [
      "Erro quadrático da CDF da Exponencial versus F.R.A  1.21864525416\n",
      "Erro quadrático da CDF da Gamma versus F.R.A  0.636857335856\n"
     ]
    }
   ],
   "source": [
    "# Erro quadrático nas CDFs\n",
    "erro_quad_cdf_exponencial = sum((fra - cdf_exponencial)**2)\n",
    "\n",
    "erro_quad_cdf_gamma = sum((fra - cdf_gamma)**2)\n",
    "\n",
    "print(\"Erro quadrático da CDF da Exponencial versus F.R.A \", erro_quad_cdf_exponencial)\n",
    "print(\"Erro quadrático da CDF da Gamma versus F.R.A \", erro_quad_cdf_gamma)\n"
   ]
  },
  {
   "cell_type": "markdown",
   "metadata": {},
   "source": [
    "### Novamente os valores retornados pela distribuição gamma são melhores"
   ]
  },
  {
   "cell_type": "markdown",
   "metadata": {},
   "source": [
    "### Diferenças absolutas"
   ]
  },
  {
   "cell_type": "code",
   "execution_count": 349,
   "metadata": {
    "collapsed": false
   },
   "outputs": [
    {
     "name": "stdout",
     "output_type": "stream",
     "text": [
      "Erro da soma do módulo das diferenças da exponencial versus F.R.A: 9.84161271837786 \n",
      "Erro da soma do módulo das diferenças da gamma versus F.R.A: 5.237289995362518\n"
     ]
    }
   ],
   "source": [
    "# Diferenças absolutas\n",
    "soma_difs_cdf_expoencial = sum( abs(fra - cdf_exponencial))\n",
    "soma_difs_cdf_gamma = sum( abs(fra - cdf_gamma))\n",
    "\n",
    "print(\"Erro da soma do módulo das diferenças da exponencial versus F.R.A: {0} \\nErro da soma do módulo das diferenças da gamma versus F.R.A: {1}\".format(soma_difs_cdf_expoencial, soma_difs_cdf_gamma))"
   ]
  },
  {
   "cell_type": "markdown",
   "metadata": {},
   "source": [
    "### A partir dos resultados acima, podemos ver que o erro da soma do módulo das diferenças entre f.r.a e cumulativa é menor no caso da distribuição gamma com os parâmetros testados. Portanto a *gamma com estes parâmetros testados oferece o melhor ajuste**. "
   ]
  },
  {
   "cell_type": "markdown",
   "metadata": {},
   "source": [
    "### Teste de aderência de Kolmogorov-Smirnov"
   ]
  },
  {
   "cell_type": "code",
   "execution_count": 350,
   "metadata": {
    "collapsed": false
   },
   "outputs": [
    {
     "name": "stdout",
     "output_type": "stream",
     "text": [
      "Teste K-S para a exponencial com μ= 35.00: 0.162\n",
      "Teste K-S para a gamma com scale=21.212, loc=0 e a=1.650  0.211:\n"
     ]
    }
   ],
   "source": [
    "# Kolmogorov-Smirnov goodness-of-fit test\n",
    "ks_aderencia_exp = max(abs(fra-cdf_exponencial))\n",
    "ks_aderencia_gamma = max(abs(fra-cdf_gamma))\n",
    "\n",
    "\n",
    "print(\"Teste K-S para a exponencial com μ= {:4.2f}: {:4.3f}\\n\\\n",
    "Teste K-S para a gamma com scale={:4.3f}, loc=0 e a={:4.3f}  {:4.3f}:\".format(mu_exp, ks_aderencia_exp, theta_gamma, k_gamma, ks_aderencia_gamma))"
   ]
  },
  {
   "cell_type": "markdown",
   "metadata": {},
   "source": [
    "### Com esse teste percebemos que o gráfico tem maior compatibilidade com a distribuição gamma e com a mesma no valor de 1,650"
   ]
  },
  {
   "cell_type": "markdown",
   "metadata": {},
   "source": [
    "## Questão 11"
   ]
  },
  {
   "cell_type": "markdown",
   "metadata": {},
   "source": [
    "A tabela da questão 11 será passada junto com este arquivo , no entanto , no fromato de uma foto  pois não sabia como fazer tabelas aqui."
   ]
  },
  {
   "cell_type": "markdown",
   "metadata": {},
   "source": [
    "## A conclusão qu eeu cheguei com a mesma foi semelhante ao que ja vinha percebendo sobre a superioridade da distribuição gamma quanto a exponencial para a analise desse gráfico em especifico"
   ]
  },
  {
   "cell_type": "code",
   "execution_count": null,
   "metadata": {
    "collapsed": true
   },
   "outputs": [],
   "source": []
  }
 ],
 "metadata": {
  "anaconda-cloud": {},
  "kernelspec": {
   "display_name": "Python 3",
   "language": "python",
   "name": "python3"
  },
  "language_info": {
   "codemirror_mode": {
    "name": "ipython",
    "version": 3
   },
   "file_extension": ".py",
   "mimetype": "text/x-python",
   "name": "python",
   "nbconvert_exporter": "python",
   "pygments_lexer": "ipython3",
   "version": "3.5.1"
  }
 },
 "nbformat": 4,
 "nbformat_minor": 0
}
